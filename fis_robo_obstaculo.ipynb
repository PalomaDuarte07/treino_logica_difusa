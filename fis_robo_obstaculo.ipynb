{
  "nbformat": 4,
  "nbformat_minor": 0,
  "metadata": {
    "colab": {
      "provenance": []
    },
    "kernelspec": {
      "name": "python3",
      "display_name": "Python 3"
    },
    "language_info": {
      "name": "python"
    }
  },
  "cells": [
    {
      "cell_type": "markdown",
      "source": [
        "##FIS do robô usando lógica difusa para evitar obstáculos\n",
        "###Aluna: Paloma Duarte de Lira"
      ],
      "metadata": {
        "id": "pxFHOuwCipdn"
      }
    },
    {
      "cell_type": "code",
      "source": [
        "!pip install scikit-fuzzy\n",
        "#n tinha fuzz instalado"
      ],
      "metadata": {
        "colab": {
          "base_uri": "https://localhost:8080/"
        },
        "id": "OOVzSYTvhJqx",
        "outputId": "99bc0951-7370-4d24-958e-9cbdaa0d1619"
      },
      "execution_count": 2,
      "outputs": [
        {
          "output_type": "stream",
          "name": "stdout",
          "text": [
            "Collecting scikit-fuzzy\n",
            "  Downloading scikit_fuzzy-0.5.0-py2.py3-none-any.whl.metadata (2.6 kB)\n",
            "Downloading scikit_fuzzy-0.5.0-py2.py3-none-any.whl (920 kB)\n",
            "\u001b[2K   \u001b[90m━━━━━━━━━━━━━━━━━━━━━━━━━━━━━━━━━━━━━━━━\u001b[0m \u001b[32m920.8/920.8 kB\u001b[0m \u001b[31m10.4 MB/s\u001b[0m eta \u001b[36m0:00:00\u001b[0m\n",
            "\u001b[?25hInstalling collected packages: scikit-fuzzy\n",
            "Successfully installed scikit-fuzzy-0.5.0\n"
          ]
        }
      ]
    },
    {
      "cell_type": "code",
      "execution_count": 16,
      "metadata": {
        "id": "LVgI5BbIcSBR"
      },
      "outputs": [],
      "source": [
        "import numpy as np\n",
        "import skfuzzy as fuzz\n",
        "import skfuzzy.control as ctrl"
      ]
    },
    {
      "cell_type": "code",
      "source": [
        "# Definição das variáveis de entrada\n",
        "dist = ctrl.Antecedent(np.arange(0, 10.1, 0.1), 'dist')\n",
        "ang = ctrl.Antecedent(np.arange(0, np.pi/2, 0.01), 'ang')\n",
        "\n",
        "# Definição das variáveis de saída\n",
        "guinada = ctrl.Consequent(np.arange(0, np.pi/2, 0.01), 'guinada') #o senhor escreveu 'guinhada' no ex e eu fiquei deverás confusa\n",
        "vel = ctrl.Consequent(np.arange(0, 15.1, 0.1), 'vel')"
      ],
      "metadata": {
        "id": "MPC1zrYzg4jn"
      },
      "execution_count": 10,
      "outputs": []
    },
    {
      "cell_type": "code",
      "source": [
        "# Conjuntos difusos das entradas\n",
        "dist['Pequena'] = fuzz.trapmf(dist.universe, [0, 0, 2.1, 2.5])\n",
        "dist['Longa'] = fuzz.trapmf(dist.universe, [2.3, 2.6, 5.4, 6])\n",
        "dist['MuitoLonga'] = fuzz.trapmf(dist.universe, [5.2, 5.8, 10, 10])\n",
        "\n",
        "ang['Pequeno'] = fuzz.zmf(ang.universe, 0, np.pi/6)\n",
        "ang['Medio'] = fuzz.pimf(ang.universe, np.pi/12, np.pi/4, np.pi/3, np.pi/2)\n",
        "ang['Amplo'] = fuzz.smf(ang.universe, np.pi/6, np.pi/2)"
      ],
      "metadata": {
        "id": "_GwWx0XLhRyb"
      },
      "execution_count": 11,
      "outputs": []
    },
    {
      "cell_type": "code",
      "source": [
        "# Conjuntos difusos das saídas\n",
        "guinada['Zero'] = fuzz.zmf(guinada.universe, 0, np.pi/6)\n",
        "guinada['Modesta'] = fuzz.pimf(guinada.universe, np.pi/12, np.pi/4, np.pi/3, np.pi/2)\n",
        "guinada['Media'] = fuzz.pimf(guinada.universe, np.pi/12, np.pi/4, np.pi/3, np.pi/2)\n",
        "guinada['Grande'] = fuzz.pimf(guinada.universe, np.pi/12, np.pi/4, np.pi/3, np.pi/2)\n",
        "guinada['Severa'] = fuzz.smf(guinada.universe, np.pi/6, np.pi/2)\n",
        "\n",
        "vel['Lenta'] = fuzz.pimf(vel.universe, 0, 2, 4, 6)\n",
        "vel['Rapida'] = fuzz.trapmf(vel.universe, [5, 6, 9, 10])\n",
        "vel['MuitoRapida'] = fuzz.trapmf(vel.universe, [9, 10, 13, 14])\n",
        "vel['Top'] = fuzz.pimf(vel.universe, 12, 13, 14, 15)"
      ],
      "metadata": {
        "id": "F66_Y1_ghWQL"
      },
      "execution_count": 12,
      "outputs": []
    },
    {
      "cell_type": "code",
      "source": [
        "# Definição das regras\n",
        "rules = [\n",
        "    ctrl.Rule(dist['Pequena'] & ang['Pequeno'], [guinada['Severa'], vel['Lenta']]),\n",
        "    ctrl.Rule(dist['Pequena'] & ang['Medio'], [guinada['Grande'], vel['Lenta']]),\n",
        "    ctrl.Rule(dist['Pequena'] & ang['Amplo'], [guinada['Media'], vel['Rapida']]),\n",
        "    ctrl.Rule(dist['Longa'] & ang['Pequeno'], [guinada['Grande'], vel['Lenta']]),\n",
        "    ctrl.Rule(dist['Longa'] & ang['Medio'], [guinada['Media'], vel['Rapida']]),\n",
        "    ctrl.Rule(dist['Longa'] & ang['Amplo'], [guinada['Modesta'], vel['MuitoRapida']]),\n",
        "    ctrl.Rule(dist['MuitoLonga'] & ang['Pequeno'], [guinada['Media'], vel['Rapida']]),\n",
        "    ctrl.Rule(dist['MuitoLonga'] & ang['Medio'], [guinada['Modesta'], vel['MuitoRapida']]),\n",
        "    ctrl.Rule(dist['MuitoLonga'] & ang['Amplo'], [guinada['Zero'], vel['Top']]),\n",
        "]"
      ],
      "metadata": {
        "id": "mwYN95uMhfMP"
      },
      "execution_count": 13,
      "outputs": []
    },
    {
      "cell_type": "code",
      "source": [
        "# Criando o sistema de controle\n",
        "sistema_controle = ctrl.ControlSystem(rules)\n",
        "simulador = ctrl.ControlSystemSimulation(sistema_controle)"
      ],
      "metadata": {
        "id": "YUUm_mODhmg0"
      },
      "execution_count": 14,
      "outputs": []
    },
    {
      "cell_type": "code",
      "source": [
        "# Exemplo de simulação\n",
        "simulador.input['dist'] = 3.0\n",
        "simulador.input['ang'] = np.pi/4\n",
        "simulador.compute()\n",
        "\n",
        "print(f\"Guinada: {simulador.output['guinada']:.4f} rad\")\n",
        "print(f\"Velocidade: {simulador.output['vel']:.4f} m/s\")"
      ],
      "metadata": {
        "colab": {
          "base_uri": "https://localhost:8080/"
        },
        "id": "FaGrTe8dhrKM",
        "outputId": "f1a0b50c-1b94-45c4-cc3d-2daa59c7d02b"
      },
      "execution_count": 15,
      "outputs": [
        {
          "output_type": "stream",
          "name": "stdout",
          "text": [
            "Guinada: 0.9163 rad\n",
            "Velocidade: 7.9936 m/s\n"
          ]
        }
      ]
    }
  ]
}